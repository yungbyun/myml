{
  "nbformat": 4,
  "nbformat_minor": 0,
  "metadata": {
    "colab": {
      "name": "Untitled16.ipynb",
      "provenance": [],
      "collapsed_sections": []
    },
    "kernelspec": {
      "name": "python3",
      "display_name": "Python 3"
    }
  },
  "cells": [
    {
      "cell_type": "code",
      "metadata": {
        "id": "KAHimjs9Avmi",
        "colab_type": "code",
        "colab": {
          "base_uri": "https://localhost:8080/",
          "height": 35
        },
        "outputId": "b96695e9-c61e-406a-b2d6-3be433cec087"
      },
      "source": [
        "%tensorflow_version 1.x"
      ],
      "execution_count": 1,
      "outputs": [
        {
          "output_type": "stream",
          "text": [
            "TensorFlow 1.x selected.\n"
          ],
          "name": "stdout"
        }
      ]
    },
    {
      "cell_type": "code",
      "metadata": {
        "id": "oFEa5nOoAxpQ",
        "colab_type": "code",
        "colab": {
          "base_uri": "https://localhost:8080/",
          "height": 163
        },
        "outputId": "748e97dd-e8c9-48ce-f9ec-194975397d73"
      },
      "source": [
        "from google.colab import drive\n",
        "drive.mount('/gdrive')\n",
        "%cd /gdrive\n",
        "%cd /gdrive/My Drive/mldata\n",
        "%ls"
      ],
      "execution_count": 2,
      "outputs": [
        {
          "output_type": "stream",
          "text": [
            "Go to this URL in a browser: https://accounts.google.com/o/oauth2/auth?client_id=947318989803-6bn6qk8qdgf4n4g3pfee6491hc0brc4i.apps.googleusercontent.com&redirect_uri=urn%3aietf%3awg%3aoauth%3a2.0%3aoob&response_type=code&scope=email%20https%3a%2f%2fwww.googleapis.com%2fauth%2fdocs.test%20https%3a%2f%2fwww.googleapis.com%2fauth%2fdrive%20https%3a%2f%2fwww.googleapis.com%2fauth%2fdrive.photos.readonly%20https%3a%2f%2fwww.googleapis.com%2fauth%2fpeopleapi.readonly\n",
            "\n",
            "Enter your authorization code:\n",
            "··········\n",
            "Mounted at /gdrive\n",
            "/gdrive\n",
            "/gdrive/My Drive/mldata\n"
          ],
          "name": "stdout"
        }
      ]
    },
    {
      "cell_type": "code",
      "metadata": {
        "id": "-n1YeVZAA4A7",
        "colab_type": "code",
        "colab": {}
      },
      "source": [
        "import tensorflow as tf\n",
        "import numpy as np\n",
        "import matplotlib.pyplot as plt\n",
        "\n",
        "def normalize(data):\n",
        "    numerator = data - np.min(data, 0)   # 모든 데이터를 0부터 시작하도록\n",
        "    denominator = np.max(data, 0) - np.min(data, 0)  #최대값과 최소값 차이 구함\n",
        "    # noise term prevents the zero division\n",
        "    return numerator / (denominator + 1e-7)\n",
        "\n",
        "tf.set_random_seed(777)  # reproducibility\n",
        "\n",
        "timesteps = seq_length = 7 #윈도우 크기\n",
        "data_dim = 5 #Open, High, Low, Volume, Close \n",
        "output_dim = 1 # 주가예측\n",
        "\n",
        "X = tf.placeholder(tf.float32, [None, seq_length, data_dim])  # [None, 7, 5]\n",
        "Y = tf.placeholder(tf.float32, [None, 1])\n",
        "\n",
        "# Neural Network Definition -------------------\n",
        "cell = tf.contrib.rnn.BasicLSTMCell(num_units=output_dim, state_is_tuple=True)  # 1차원 출력\n",
        "outputs, _states = tf.nn.dynamic_rnn(cell, X, dtype=tf.float32)  # 5차원 데이터가 7번 입력\n",
        "hypo = outputs[:, -1]  # 7번 입력하여 나온 7번 출력 중 가장 마지막 것을 신경망의 출력(hypo)으로 사용\n",
        "# 7묶음 짜리 데이터가 모두 725개, 이만큼 hypo도 만들어짐.\n",
        "\n",
        "loss = tf.reduce_sum(tf.square(hypo - Y))  # cost/loss function\n",
        "train = tf.train.GradientDescentOptimizer(0.01).minimize(loss)\n",
        "\n",
        "# RMSE\n",
        "targets = tf.placeholder(tf.float32, [None, 1])\n",
        "predictions = tf.placeholder(tf.float32, [None, 1])\n",
        "\n",
        "rmse = tf.sqrt(tf.reduce_mean(tf.square(targets - predictions)))\n",
        "\n",
        "# Open, High, Low, Volume, Close\n",
        "xy = np.loadtxt('data-02-stock_daily.csv', delimiter=',')\n",
        "xy = xy[::-1]  # reverse order (chronically ordered)\n",
        "xy = normalize(xy)\n",
        "x = xy\n",
        "y = xy[:, [-1]]  # Extract label\n",
        "\n",
        "dataX = []\n",
        "dataY = []\n",
        "number_of_label = len(y)\n",
        "\n",
        "# 데이터 준비\n",
        "# cvs 파일 전체 데이터를 7줄로 구성된 725개의 묶음으로 나누고 724개의 정답\n",
        "for i in range(0, number_of_label - seq_length): # 725(732 - 7)\n",
        "    _x = x[i:i + seq_length] # 0~6  (0~725)\n",
        "    _y = y[i + seq_length]  # The next close price (6~732)\n",
        "    print(_x, \"->\", _y) # _x의 한 묶음(7개)가 입력되어 unfolding되면 _y가 되어야 함.\n",
        "    dataX.append(_x) # 725(732-7)개의 묶음들이  만들어져 들어감\n",
        "    dataY.append(_y) # 7번 인덱스에 있는 y값부터 하나씩 꺼내어 구성함. 0~6번 인덱스꺼는 무시\n",
        "\n",
        "# 학습데이터 70%, 테스트 데이터 30%로 분할\n",
        "train_size = int(len(dataY) * 0.7)\n",
        "test_size = len(dataY) - train_size\n",
        "\n",
        "trainX = np.array(dataX[0:train_size])  # from 0 to train_size - 1\n",
        "trainY = np.array(dataY[0:train_size])\n",
        "\n",
        "testX = np.array(dataX[train_size:len(dataX)])  # from train_size to len(dataX) - 1\n",
        "testY = np.array(dataY[train_size:len(dataY)])\n",
        "\n",
        "sess = tf.Session()\n",
        "sess.run(tf.global_variables_initializer())\n",
        "\n",
        "# 학습\n",
        "for i in range(500): \n",
        "    sess.run(train, feed_dict={X: trainX, Y: trainY}) #학습, 경사하강\n",
        "    step_loss = sess.run(loss, feed_dict={X: trainX, Y: trainY}) #오류는 얼마인지 계산\n",
        "\n",
        "    print(i, step_loss)\n",
        "\n",
        "testPredict = sess.run(hypo, feed_dict={X: testX})\n",
        "print(\"RMSE\", sess.run(rmse, feed_dict={targets: testY, predictions: testPredict}))\n",
        "\n",
        "# Check the result!\n",
        "import matplotlib.pyplot as plt\n",
        "plt.plot(testY)\n",
        "plt.plot(testPredict)\n",
        "plt.xlabel(\"Time Period\")\n",
        "plt.ylabel(\"Stock Price\")\n",
        "plt.show()\n",
        "\n"
      ],
      "execution_count": null,
      "outputs": []
    }
  ]
}