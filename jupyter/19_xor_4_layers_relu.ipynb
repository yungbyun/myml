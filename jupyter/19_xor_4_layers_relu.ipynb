{
 "cells": [
  {
   "cell_type": "code",
   "execution_count": null,
   "metadata": {},
   "outputs": [],
   "source": [
    "# (4)2b-2-2-1/C(2)\n",
    "import tensorflow as tf\n",
    "tf.set_random_seed(777)  # for reproducibility\n",
    "\n",
    "x_data = [[0., 0], [0, 1], [1, 0], [1, 1]]\n",
    "y_data = [[0], [1], [1], [0]]\n",
    "\n",
    "#------- 2 + 2 + 1 neuron\n",
    "W1 = tf.Variable(tf.random_normal([2, 2]))\n",
    "b1 = tf.Variable(tf.random_normal([2]))\n",
    "output1 = tf.nn.relu(tf.matmul(x_data, W1) + b1)\n",
    "\n",
    "W2 = tf.Variable(tf.random_normal([2, 2]))\n",
    "b2 = tf.Variable(tf.random_normal([2]))\n",
    "output2 = tf.nn.relu(tf.matmul(output1, W2) + b2)\n",
    "\n",
    "W3 = tf.Variable(tf.random_normal([2, 1]))\n",
    "b3 = tf.Variable(tf.random_normal([1]))\n",
    "hypo = tf.sigmoid(tf.matmul(output2, W3) + b3)\n",
    "\n",
    "#----- learning\n",
    "cost = -tf.reduce_mean(y_data * tf.log(hypo) + tf.subtract(1., y_data) * tf.log(tf.subtract(1., hypo)))\n",
    "\n",
    "train = tf.train.GradientDescentOptimizer(learning_rate=0.2).minimize(cost)\n",
    "\n",
    "sess = tf.Session()\n",
    "sess.run(tf.global_variables_initializer())\n",
    "\n",
    "errors = []\n",
    "for step in range(10001):\n",
    "    sess.run(train) #계산그래프, 데이터 4개에 대하여 forward prop. 오류값을 구하고 충분히 작지 않으면\n",
    "\n",
    "    if step % 500 == 0:\n",
    "        #print(step, sess.run(cost))\n",
    "        errors.append(sess.run(cost))\n",
    "\n",
    "#----- testing(classification)\n",
    "predicted = tf.cast(hypo > 0.5, dtype=tf.float32)\n",
    "accuracy = tf.reduce_mean(tf.cast(tf.equal(predicted, y_data), dtype=tf.float32))\n",
    "\n",
    "h = sess.run(hypo)\n",
    "print(\"\\nHypo: \", h)\n",
    "\n",
    "p = sess.run(predicted)\n",
    "print(\"Predicted: \", p)\n",
    "\n",
    "a = sess.run(accuracy)\n",
    "print(\"Accuracy(%): \", a * 100)\n",
    "\n",
    "from myplot import MyPlot\n",
    "p = MyPlot()\n",
    "p.show_list(errors)\n",
    "\n"
   ]
  }
 ],
 "metadata": {
  "kernelspec": {
   "display_name": "Python 3",
   "language": "python",
   "name": "python3"
  },
  "language_info": {
   "codemirror_mode": {
    "name": "ipython",
    "version": 3
   },
   "file_extension": ".py",
   "mimetype": "text/x-python",
   "name": "python",
   "nbconvert_exporter": "python",
   "pygments_lexer": "ipython3",
   "version": "3.6.5"
  }
 },
 "nbformat": 4,
 "nbformat_minor": 2
}
