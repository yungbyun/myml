{
 "cells": [
  {
   "cell_type": "code",
   "execution_count": null,
   "metadata": {},
   "outputs": [],
   "source": [
    "# (3)1-1/R\n",
    "import tensorflow as tf\n",
    "\n",
    "from myplot import MyPlot\n",
    "\n",
    "x_data = [1, 2, 3]\n",
    "y_data = [1, 2, 3]\n",
    "\n",
    "#----- a neuron\n",
    "w = tf.Variable(tf.random_normal([1]))\n",
    "b = tf.Variable(tf.random_normal([1]))\n",
    "hypo = w * x_data + b\n",
    "#-----\n",
    "\n",
    "cost = tf.reduce_mean((hypo - y_data) ** 2)\n",
    "\n",
    "train = tf.train.GradientDescentOptimizer(learning_rate=0.01).minimize(cost)\n",
    "\n",
    "sess = tf.Session()\n",
    "sess.run(tf.global_variables_initializer())\n",
    "\n",
    "costs = []\n",
    "\n",
    "for i in range(1001):\n",
    "    sess.run(train)\n",
    "\n",
    "    if i % 50 == 0:\n",
    "        print(sess.run(w), sess.run(b), sess.run(cost))\n",
    "        costs.append(sess.run(cost))\n",
    "\n",
    "print(hypo) #shape=(3,)\n",
    "print(sess.run(hypo))\n",
    "\n",
    "p = MyPlot()\n",
    "p.show_list(costs)\n"
   ]
  }
 ],
 "metadata": {
  "kernelspec": {
   "display_name": "Python 3",
   "language": "python",
   "name": "python3"
  },
  "language_info": {
   "codemirror_mode": {
    "name": "ipython",
    "version": 3
   },
   "file_extension": ".py",
   "mimetype": "text/x-python",
   "name": "python",
   "nbconvert_exporter": "python",
   "pygments_lexer": "ipython3",
   "version": "3.6.5"
  }
 },
 "nbformat": 4,
 "nbformat_minor": 2
}
