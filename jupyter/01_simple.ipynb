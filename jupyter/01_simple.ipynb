{
 "cells": [
  {
   "cell_type": "code",
   "execution_count": null,
   "metadata": {},
   "outputs": [
    {
     "name": "stdout",
     "output_type": "stream",
     "text": [
      "w: [0.53458315] cost: [0.21661285]\n",
      "w: [0.5438915] cost: [0.20803498]\n",
      "w: [0.9395112] cost: [0.0036589]\n",
      "w: [0.99197805] cost: [6.435169e-05]\n",
      "w: [0.9989362] cost: [1.1317209e-06]\n",
      "w: [0.9998588] cost: [1.9938401e-08]\n",
      "w: [0.99998134] cost: [3.480558e-10]\n",
      "w: [0.9999974] cost: [6.8780537e-12]\n",
      "w: [0.99999857] cost: [2.046363e-12]\n",
      "w: [0.99999857] cost: [2.046363e-12]\n",
      "w: [0.99999857] cost: [2.046363e-12]\n",
      "w: [0.99999857] cost: [2.046363e-12]\n",
      "[0.99999857]\n"
     ]
    }
   ],
   "source": [
    "# (1)1-1/R\n",
    "import tensorflow as tf\n",
    "\n",
    "x_data = [1]\n",
    "y_data = [1]\n",
    "\n",
    "#----- a neuron\n",
    "w = tf.Variable(tf.random_normal([1]))\n",
    "hypo = w * x_data\n",
    "\n",
    "#----- learning\n",
    "cost = (hypo - y_data) ** 2\n",
    "\n",
    "train = tf.train.GradientDescentOptimizer(learning_rate=0.01).minimize(cost)\n",
    "\n",
    "sess = tf.Session()\n",
    "sess.run(tf.global_variables_initializer())\n",
    "\n",
    "print('w:', sess.run(w), 'cost:', sess.run(cost))\n",
    "\n",
    "for i in range(1001):\n",
    "    sess.run(train)\n",
    "\n",
    "    if i % 100 == 0:\n",
    "        print('w:', sess.run(w), 'cost:', sess.run(cost))\n",
    "\n",
    "#----- testing(prediction)\n",
    "x_data = [3]\n",
    "print(sess.run(hypo))"
   ]
  },
  {
   "cell_type": "code",
   "execution_count": null,
   "metadata": {},
   "outputs": [],
   "source": []
  }
 ],
 "metadata": {
  "kernelspec": {
   "display_name": "Python 3",
   "language": "python",
   "name": "python3"
  },
  "language_info": {
   "codemirror_mode": {
    "name": "ipython",
    "version": 3
   },
   "file_extension": ".py",
   "mimetype": "text/x-python",
   "name": "python",
   "nbconvert_exporter": "python",
   "pygments_lexer": "ipython3",
   "version": "3.6.5"
  }
 },
 "nbformat": 4,
 "nbformat_minor": 2
}
