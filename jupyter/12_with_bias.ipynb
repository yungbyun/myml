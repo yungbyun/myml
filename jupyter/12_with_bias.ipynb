{
 "cells": [
  {
   "cell_type": "code",
   "execution_count": 1,
   "metadata": {},
   "outputs": [
    {
     "name": "stdout",
     "output_type": "stream",
     "text": [
      "0 [-1.0193827] [0.8470273] 1.7975763\n",
      "200 [0.56227976] [0.5486347] 0.39725694\n",
      "400 [1.1721293] [0.3956939] 0.19090468\n",
      "600 [1.5166584] [0.3165829] 0.12751956\n",
      "800 [1.7583754] [0.26663202] 0.096857995\n",
      "1000 [1.94584] [0.23154953] 0.078604996\n",
      "1200 [2.099623] [0.20527467] 0.06640764\n",
      "1400 [2.230361] [0.18472733] 0.057637013\n",
      "1600 [2.344284] [0.16814896] 0.0510033\n",
      "1800 [2.4453635] [0.15445147] 0.045796797\n",
      "2000 [2.5362978] [0.14292023] 0.041593388\n",
      "2200 [2.6189961] [0.13306391] 0.03812365\n",
      "2400 [2.6948748] [0.12453251] 0.03520744\n",
      "2600 [2.7650032] [0.11706879] 0.032719888\n",
      "2800 [2.8302183] [0.1104794] 0.030571202\n",
      "3000 [2.8911796] [0.10461579] 0.0286955\n",
      "3200 [2.948423] [0.09936166] 0.02704304\n",
      "3400 [3.002387] [0.09462501] 0.025575547\n",
      "3600 [3.0534363] [0.09033147] 0.024263175\n",
      "3800 [3.1018775] [0.08642049] 0.023082115\n",
      "4000 [3.1479697] [0.08284234] 0.022013394\n",
      "4200 [3.1919346] [0.07955548] 0.021041466\n",
      "4400 [3.2339647] [0.07652521] 0.020153575\n",
      "4600 [3.2742257] [0.07372218] 0.019339103\n",
      "4800 [3.3128648] [0.07112136] 0.018589232\n",
      "5000 [3.350008] [0.06870137] 0.017896477\n",
      "\n",
      "Hypo:  [[0.00131669]\n",
      " [0.03621807]\n",
      " [0.9682842 ]\n",
      " [0.99885213]]\n",
      "Predicted:  [[0.]\n",
      " [0.]\n",
      " [1.]\n",
      " [1.]]\n",
      "Accuracy(%):  100.0\n"
     ]
    }
   ],
   "source": [
    "# (4)1-1/C(2)\n",
    "import tensorflow as tf\n",
    "\n",
    "x_data = [[-2.], [-1], [1], [2]]\n",
    "y_data = [[0.], [0], [1], [1]]\n",
    "\n",
    "#------- a neuron\n",
    "w = tf.Variable(tf.random_normal([1]))\n",
    "b = tf.Variable(tf.random_normal([1]))\n",
    "hypo = tf.sigmoid(x_data * w + b)\n",
    "\n",
    "#----- learning\n",
    "cost = -tf.reduce_mean(y_data * tf.log(hypo) + tf.subtract(1., y_data) * tf.log(tf.subtract(1., hypo)))\n",
    "\n",
    "train = tf.train.GradientDescentOptimizer(learning_rate=0.01).minimize(cost)\n",
    "\n",
    "sess = tf.Session()\n",
    "sess.run(tf.global_variables_initializer())\n",
    "\n",
    "for step in range(5001):\n",
    "    sess.run(train)\n",
    "\n",
    "    if step % 200 == 0:\n",
    "        print(step, sess.run(w), sess.run(b), sess.run(cost))\n",
    "\n",
    "#----- testing(classification)\n",
    "predicted = tf.cast(hypo > 0.5, dtype=tf.float32)\n",
    "accuracy = tf.reduce_mean(tf.cast(tf.equal(predicted, y_data), dtype=tf.float32))\n",
    "\n",
    "h = sess.run(hypo)\n",
    "print(\"\\nHypo: \", h)\n",
    "\n",
    "p = sess.run(predicted)\n",
    "print(\"Predicted: \", p)\n",
    "\n",
    "a = sess.run(accuracy)\n",
    "print(\"Accuracy(%): \", a * 100)\n"
   ]
  },
  {
   "cell_type": "code",
   "execution_count": null,
   "metadata": {},
   "outputs": [],
   "source": []
  }
 ],
 "metadata": {
  "kernelspec": {
   "display_name": "Python 3",
   "language": "python",
   "name": "python3"
  },
  "language_info": {
   "codemirror_mode": {
    "name": "ipython",
    "version": 3
   },
   "file_extension": ".py",
   "mimetype": "text/x-python",
   "name": "python",
   "nbconvert_exporter": "python",
   "pygments_lexer": "ipython3",
   "version": "3.6.5"
  }
 },
 "nbformat": 4,
 "nbformat_minor": 2
}
