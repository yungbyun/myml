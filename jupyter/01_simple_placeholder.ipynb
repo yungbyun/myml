{
 "cells": [
  {
   "cell_type": "code",
   "execution_count": null,
   "metadata": {},
   "outputs": [],
   "source": [
    "# (1)1-1/R\n",
    "import tensorflow as tf\n",
    "\n",
    "x_data = [1]\n",
    "y_data = [1]\n",
    "\n",
    "X = tf.placeholder(tf.float32)\n",
    "Y = tf.placeholder(tf.float32)\n",
    "\n",
    "#----- a neuron\n",
    "w = tf.Variable(tf.random_normal([1]))\n",
    "hypo = w * X\n",
    "\n",
    "#----- learning\n",
    "cost = (hypo - Y) ** 2\n",
    "\n",
    "train = tf.train.GradientDescentOptimizer(learning_rate=0.01).minimize(cost)\n",
    "\n",
    "sess = tf.Session()\n",
    "sess.run(tf.global_variables_initializer())\n",
    "\n",
    "for i in range(1001):\n",
    "    sess.run(train, feed_dict={X:x_data, Y:y_data})\n",
    "\n",
    "    if i % 100 == 0:\n",
    "        print(sess.run(w), sess.run(cost, feed_dict={X:x_data, Y:y_data}))\n",
    "\n",
    "#----- testing(prediction)\n",
    "print(sess.run(hypo, feed_dict={X:[5]}))"
   ]
  }
 ],
 "metadata": {
  "kernelspec": {
   "display_name": "Python 3",
   "language": "python",
   "name": "python3"
  },
  "language_info": {
   "codemirror_mode": {
    "name": "ipython",
    "version": 3
   },
   "file_extension": ".py",
   "mimetype": "text/x-python",
   "name": "python",
   "nbconvert_exporter": "python",
   "pygments_lexer": "ipython3",
   "version": "3.6.5"
  }
 },
 "nbformat": 4,
 "nbformat_minor": 2
}
