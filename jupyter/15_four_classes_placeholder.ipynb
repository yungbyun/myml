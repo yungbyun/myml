{
 "cells": [
  {
   "cell_type": "code",
   "execution_count": 1,
   "metadata": {},
   "outputs": [
    {
     "name": "stdout",
     "output_type": "stream",
     "text": [
      "WARNING:tensorflow:From <ipython-input-1-c8dd7fdaa077>:17: softmax_cross_entropy_with_logits (from tensorflow.python.ops.nn_ops) is deprecated and will be removed in a future version.\n",
      "Instructions for updating:\n",
      "\n",
      "Future major versions of TensorFlow will allow gradients to flow\n",
      "into the labels input on backprop by default.\n",
      "\n",
      "See @{tf.nn.softmax_cross_entropy_with_logits_v2}.\n",
      "\n",
      "0 1.5163966\n",
      "500 0.108895935\n",
      "1000 0.03751074\n",
      "1500 0.018937275\n",
      "2000 0.011249129\n",
      "2500 0.0072967196\n",
      "3000 0.004994683\n",
      "3500 0.003542238\n",
      "4000 0.0025743772\n",
      "4500 0.0019038753\n",
      "5000 0.0014260816\n",
      "5500 0.001078237\n",
      "6000 0.0008210895\n",
      "6500 0.0006285334\n",
      "7000 0.00048318243\n",
      "7500 0.000372546\n",
      "8000 0.00028793656\n",
      "8500 0.00022295503\n",
      "9000 0.00017286767\n",
      "9500 0.00013419046\n",
      "10000 0.00010427265\n",
      "\n",
      "Logits:  [[ 1.0934862e+01 -8.4874302e-01  1.7581849e+00 -9.9991064e+00]\n",
      " [-3.6249876e+00  7.5096231e+00 -1.1116148e+01 -2.0887661e+00]\n",
      " [ 5.3834629e-01 -1.0057068e+01  9.8899498e+00 -1.2503624e-02]\n",
      " [-1.4021503e+01 -1.6987014e+00 -2.9843841e+00  7.8978357e+00]]\n",
      "Predicted:  [ True  True  True  True]\n",
      "Accuracy(%):  100.0\n"
     ]
    }
   ],
   "source": [
    "# (4)2b-4S/C(4)\n",
    "import tensorflow as tf\n",
    "\n",
    "x_data = [[0., 0], [0, 1], [1, 0], [1, 1]]\n",
    "y_data = [[1,0,0,0], [0,1,0,0], [0,0,1,0], [0,0,0,1]]\n",
    "\n",
    "X = tf.placeholder(tf.float32, [4, 2])\n",
    "Y = tf.placeholder(tf.float32, [4, 4])\n",
    "\n",
    "#------- 2 inputs 4 neurons\n",
    "W = tf.Variable(tf.random_normal([2, 4]))\n",
    "b = tf.Variable(tf.random_normal([4]))\n",
    "output = tf.matmul(X, W) + b\n",
    "\n",
    "#----- learning\n",
    "cost = tf.reduce_mean(tf.nn.softmax_cross_entropy_with_logits(logits=output,\n",
    "                                                              labels=Y))\n",
    "\n",
    "train = tf.train.AdamOptimizer(learning_rate=0.01).minimize(cost)\n",
    "\n",
    "sess = tf.Session()\n",
    "sess.run(tf.global_variables_initializer())\n",
    "\n",
    "for step in range(10001):\n",
    "    sess.run(train, feed_dict={X:x_data, Y:y_data})\n",
    "\n",
    "    if step % 500 == 0:\n",
    "        print(step, sess.run(cost, feed_dict={X:x_data, Y:y_data}))\n",
    "\n",
    "#----- testing(classification)\n",
    "predicted = tf.equal(tf.argmax(output, 1), tf.argmax(Y, 1))\n",
    "accuracy = tf.reduce_mean(tf.cast(predicted, tf.float32))\n",
    "\n",
    "h = sess.run(output, feed_dict={X:x_data})\n",
    "print(\"\\nLogits: \", h)\n",
    "\n",
    "p = sess.run(predicted, feed_dict={X:x_data, Y:y_data})\n",
    "print(\"Predicted: \", p)\n",
    "\n",
    "a = sess.run(accuracy, feed_dict={X:x_data, Y:y_data})\n",
    "print(\"Accuracy(%): \", a * 100)\n"
   ]
  },
  {
   "cell_type": "code",
   "execution_count": null,
   "metadata": {},
   "outputs": [],
   "source": []
  }
 ],
 "metadata": {
  "kernelspec": {
   "display_name": "Python 3",
   "language": "python",
   "name": "python3"
  },
  "language_info": {
   "codemirror_mode": {
    "name": "ipython",
    "version": 3
   },
   "file_extension": ".py",
   "mimetype": "text/x-python",
   "name": "python",
   "nbconvert_exporter": "python",
   "pygments_lexer": "ipython3",
   "version": "3.6.5"
  }
 },
 "nbformat": 4,
 "nbformat_minor": 2
}
