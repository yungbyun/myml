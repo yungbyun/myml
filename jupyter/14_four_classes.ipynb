{
 "cells": [
  {
   "cell_type": "code",
   "execution_count": 1,
   "metadata": {},
   "outputs": [
    {
     "name": "stdout",
     "output_type": "stream",
     "text": [
      "WARNING:tensorflow:From <ipython-input-1-c4edb4cd9af4>:14: softmax_cross_entropy_with_logits (from tensorflow.python.ops.nn_ops) is deprecated and will be removed in a future version.\n",
      "Instructions for updating:\n",
      "\n",
      "Future major versions of TensorFlow will allow gradients to flow\n",
      "into the labels input on backprop by default.\n",
      "\n",
      "See @{tf.nn.softmax_cross_entropy_with_logits_v2}.\n",
      "\n",
      "0 1.7620447\n",
      "500 0.149854\n",
      "1000 0.05051747\n",
      "1500 0.025284262\n",
      "2000 0.014963509\n",
      "2500 0.00968879\n",
      "3000 0.006626352\n",
      "3500 0.004697625\n",
      "4000 0.0034136104\n",
      "4500 0.002524635\n",
      "5000 0.0018911306\n",
      "5500 0.0014300821\n",
      "6000 0.0010891868\n",
      "6500 0.0008339674\n",
      "7000 0.0006411399\n",
      "7500 0.00049447676\n",
      "8000 0.00038229054\n",
      "8500 0.00029604216\n",
      "9000 0.00022954088\n",
      "9500 0.00017823177\n",
      "10000 0.00013851159\n",
      "\n",
      "Logits:  [[  5.8745375  -4.8385997  -3.1161642  -9.339852 ]\n",
      " [ -3.032236    7.4541183 -15.819788   -1.7428088]\n",
      " [ -1.8931952 -16.15471     7.4729204  -2.3388023]\n",
      " [-10.79997    -3.8619924  -5.2307034   5.2582407]]\n",
      "\n",
      "hit:  [ True  True  True  True]\n",
      "Accuracy(%):  100.0\n"
     ]
    }
   ],
   "source": [
    "# (4)2b-4S/C(4)\n",
    "import tensorflow as tf\n",
    "\n",
    "x_data = [[0., 0], [0, 1], [1, 0], [1, 1]]\n",
    "y_data = [[1,0,0,0], [0,1,0,0], [0,0,1,0], [0,0,0,1]]\n",
    "\n",
    "#------- 2 inputs 4 neurons\n",
    "W = tf.Variable(tf.random_normal([2, 4]))\n",
    "b = tf.Variable(tf.random_normal([4]))\n",
    "output = tf.matmul(x_data, W) + b  # logit (?, 4)\n",
    "\n",
    "#----- learning\n",
    "cost = tf.reduce_mean(tf.nn.softmax_cross_entropy_with_logits(logits=output,\n",
    "                                                              labels=y_data))\n",
    "\n",
    "train = tf.train.AdamOptimizer(learning_rate=0.01).minimize(cost)\n",
    "\n",
    "sess = tf.Session()\n",
    "sess.run(tf.global_variables_initializer())\n",
    "\n",
    "for step in range(10001):\n",
    "    sess.run(train)\n",
    "\n",
    "    if step % 500 == 0:\n",
    "        print(step, sess.run(cost))\n",
    "\n",
    "#----- testing(classification)\n",
    "logit = sess.run(output) #(?, 4)\n",
    "print(\"\\nLogits: \", logit)\n",
    "\n",
    "hit = tf.equal(tf.argmax(output, 1), tf.argmax(y_data, 1))\n",
    "accuracy = tf.reduce_mean(tf.cast(hit, tf.float32))\n",
    "\n",
    "p = sess.run(hit)\n",
    "print(\"\\nhit: \", p)\n",
    "\n",
    "a = sess.run(accuracy)\n",
    "print(\"Accuracy(%): \", a * 100)\n"
   ]
  },
  {
   "cell_type": "code",
   "execution_count": null,
   "metadata": {},
   "outputs": [],
   "source": []
  }
 ],
 "metadata": {
  "kernelspec": {
   "display_name": "Python 3",
   "language": "python",
   "name": "python3"
  },
  "language_info": {
   "codemirror_mode": {
    "name": "ipython",
    "version": 3
   },
   "file_extension": ".py",
   "mimetype": "text/x-python",
   "name": "python",
   "nbconvert_exporter": "python",
   "pygments_lexer": "ipython3",
   "version": "3.6.5"
  }
 },
 "nbformat": 4,
 "nbformat_minor": 2
}
