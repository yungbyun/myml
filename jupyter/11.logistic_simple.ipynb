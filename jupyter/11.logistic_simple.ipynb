{
 "cells": [
  {
   "cell_type": "code",
   "execution_count": 8,
   "metadata": {},
   "outputs": [
    {
     "name": "stdout",
     "output_type": "stream",
     "text": [
      "0 [-2.2104359] 3.3736548\n",
      "200 [0.08762819] 0.629823\n",
      "400 [0.9452542] 0.23445448\n",
      "600 [1.3622228] 0.14576304\n",
      "800 [1.6384639] 0.10729559\n",
      "1000 [1.8465992] 0.08554281\n",
      "1200 [2.014371] 0.07143296\n",
      "1400 [2.1553137] 0.061483648\n",
      "1600 [2.2770686] 0.054062746\n",
      "1800 [2.3843818] 0.048299786\n",
      "2000 [2.4804087] 0.043686114\n",
      "2200 [2.5673647] 0.039903544\n",
      "2400 [2.646859] 0.036742568\n",
      "2600 [2.7201042] 0.03405932\n",
      "2800 [2.7880337] 0.03175146\n",
      "3000 [2.8513858] 0.02974428\n",
      "3200 [2.910752] 0.027981814\n",
      "3400 [2.9666147] 0.026421275\n",
      "3600 [3.0193734] 0.025029352\n",
      "3800 [3.069362] 0.023779783\n",
      "4000 [3.116863] 0.022651564\n",
      "4200 [3.162115] 0.021627594\n",
      "4400 [3.205326] 0.020693934\n",
      "4600 [3.2466762] 0.019838994\n",
      "4800 [3.2863214] 0.019053085\n",
      "5000 [3.3243985] 0.018328127\n",
      "Predicted:  [0. 0. 1. 1.]\n",
      "Accuracy(%):  100.0\n"
     ]
    }
   ],
   "source": [
    "# (4)1-1/C(2)\n",
    "import tensorflow as tf\n",
    "\n",
    "x_data = [-2., -1, 1, 2]\n",
    "y_data = [0., 0, 1, 1]\n",
    "\n",
    "#------- a neuron\n",
    "w = tf.Variable(tf.random_normal([1]))\n",
    "hypo = tf.sigmoid(x_data * w)\n",
    "\n",
    "#----- learning\n",
    "cost = -tf.reduce_mean(y_data * tf.log(hypo) +\n",
    "        tf.subtract(1., y_data) * tf.log(tf.subtract(1., hypo)))\n",
    "\n",
    "train = tf.train.GradientDescentOptimizer(learning_rate=0.01).minimize(cost)\n",
    "\n",
    "sess = tf.Session()\n",
    "sess.run(tf.global_variables_initializer())\n",
    "#At this point, computation graph will be constructed!\n",
    "for step in range(5001):\n",
    "    sess.run(train)\n",
    "\n",
    "    if step % 200 == 0:\n",
    "        print(step, sess.run(w), sess.run(cost))\n",
    "\n",
    "#----- testing(classification)\n",
    "#[0.00.1, 0.1, 0.999991, 0.9999999999999999]\n",
    "predicted = [0, 0, 1, 1]\n",
    "y_data = [0., 0, 1, 1]\n",
    "predicted = tf.cast(hypo > 0.5, dtype=tf.float32)\n",
    "accuracy = tf.reduce_mean(tf.cast(tf.equal(predicted, y_data), dtype=tf.float32))\n",
    "\n",
    "p = sess.run(predicted)\n",
    "print(\"Predicted: \", p)\n",
    "\n",
    "a = sess.run(accuracy)\n",
    "print(\"Accuracy(%): \", a * 100)\n"
   ]
  },
  {
   "cell_type": "code",
   "execution_count": null,
   "metadata": {},
   "outputs": [],
   "source": []
  }
 ],
 "metadata": {
  "kernelspec": {
   "display_name": "Python 3",
   "language": "python",
   "name": "python3"
  },
  "language_info": {
   "codemirror_mode": {
    "name": "ipython",
    "version": 3
   },
   "file_extension": ".py",
   "mimetype": "text/x-python",
   "name": "python",
   "nbconvert_exporter": "python",
   "pygments_lexer": "ipython3",
   "version": "3.6.5"
  }
 },
 "nbformat": 4,
 "nbformat_minor": 2
}
