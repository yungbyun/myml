{
 "cells": [
  {
   "cell_type": "code",
   "execution_count": null,
   "metadata": {},
   "outputs": [],
   "source": [
    "# (4)2-1/C(2)\n",
    "import tensorflow as tf\n",
    "\n",
    "x_data = [[0., 0], [0, 1], [1, 0], [1, 1]]\n",
    "y_data = [[0], [1], [1], [1]]\n",
    "\n",
    "#------- a neuron\n",
    "W = tf.Variable(tf.random_normal([2, 1]))\n",
    "b = tf.Variable(tf.random_normal([1]))\n",
    "hypo = tf.sigmoid(tf.matmul(x_data, W) + b)\n",
    "\n",
    "#----- learning\n",
    "cost = -tf.reduce_mean(y_data * tf.log(hypo) + tf.subtract(1., y_data) * tf.log(tf.subtract(1., hypo)))\n",
    "\n",
    "train = tf.train.GradientDescentOptimizer(learning_rate=0.1).minimize(cost)\n",
    "\n",
    "sess = tf.Session()\n",
    "sess.run(tf.global_variables_initializer())\n",
    "\n",
    "for step in range(10001):\n",
    "    sess.run(train)\n",
    "\n",
    "    if step % 500 == 0:\n",
    "        print(step, sess.run(cost))\n",
    "\n",
    "#----- testing(classification)\n",
    "predicted = tf.cast(hypo > 0.5, dtype=tf.float32)\n",
    "accuracy = tf.reduce_mean(tf.cast(tf.equal(predicted, y_data), dtype=tf.float32))\n",
    "\n",
    "h = sess.run(hypo)\n",
    "print(\"\\nHypo: \", h)\n",
    "\n",
    "p = sess.run(predicted)\n",
    "print(\"Predicted: \", p)\n",
    "\n",
    "a = sess.run(accuracy)\n",
    "print(\"Accuracy(%): \", a * 100)\n"
   ]
  }
 ],
 "metadata": {
  "kernelspec": {
   "display_name": "Python 3",
   "language": "python",
   "name": "python3"
  },
  "language_info": {
   "codemirror_mode": {
    "name": "ipython",
    "version": 3
   },
   "file_extension": ".py",
   "mimetype": "text/x-python",
   "name": "python",
   "nbconvert_exporter": "python",
   "pygments_lexer": "ipython3",
   "version": "3.6.5"
  }
 },
 "nbformat": 4,
 "nbformat_minor": 2
}
